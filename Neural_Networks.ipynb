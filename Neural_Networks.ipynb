{
 "cells": [
  {
   "cell_type": "markdown",
   "metadata": {
    "colab_type": "text",
    "id": "p_UN7AMsdTWf"
   },
   "source": [
    "![Houses](https://cdn12.picryl.com/photo/2016/12/31/painted-ladies-houses-san-francisco-architecture-buildings-2efc18-1024.jpg)\n",
    "# House Median Price Prediction\n",
    "### Using Deep Neural Networks\n",
    "\n",
    "### Program Description\n",
    "This program predicts if the price of a house will be above the median price or not based off of it's features.\n",
    "\n",
    "### About Neural Networks\n",
    "Artificial neural networks (ANN) or connectionist systems are computing systems that are inspired by, but not necessarily identical to, the biological neural networks that constitute animal brains. Such systems \"learn\" to perform tasks by considering examples, generally without being programmed with any task-specific rules. Deep Neural networs are just ANN's with multiple hidden layers."
   ]
  },
  {
   "cell_type": "code",
   "execution_count": 1,
   "metadata": {
    "colab": {
     "base_uri": "https://localhost:8080/",
     "height": 34
    },
    "colab_type": "code",
    "id": "tpVWIrlZazJP",
    "outputId": "8c02c779-1a69-4fb0-ed13-fa9d8cda118b"
   },
   "outputs": [
    {
     "name": "stderr",
     "output_type": "stream",
     "text": [
      "Using TensorFlow backend.\n"
     ]
    }
   ],
   "source": [
    "#import the dependencies\n",
    "import pandas as pd\n",
    "from keras.models import Sequential\n",
    "from keras.layers import Dense\n",
    "from sklearn.model_selection import train_test_split\n",
    "import matplotlib.pyplot as plt\n",
    "\n",
    "\n"
   ]
  },
  {
   "cell_type": "code",
   "execution_count": 2,
   "metadata": {
    "colab": {},
    "colab_type": "code",
    "id": "s8Uf1NyMsTtP"
   },
   "outputs": [],
   "source": [
    "#Load the data set\n",
    "df = pd.read_csv('housepricedata.csv')\n"
   ]
  },
  {
   "cell_type": "code",
   "execution_count": 3,
   "metadata": {
    "colab": {
     "base_uri": "https://localhost:8080/",
     "height": 266
    },
    "colab_type": "code",
    "id": "vYn84ufmuAub",
    "outputId": "c0539c00-0f14-4207-ae38-79ea49a92078"
   },
   "outputs": [
    {
     "data": {
      "text/html": [
       "<div>\n",
       "<style scoped>\n",
       "    .dataframe tbody tr th:only-of-type {\n",
       "        vertical-align: middle;\n",
       "    }\n",
       "\n",
       "    .dataframe tbody tr th {\n",
       "        vertical-align: top;\n",
       "    }\n",
       "\n",
       "    .dataframe thead th {\n",
       "        text-align: right;\n",
       "    }\n",
       "</style>\n",
       "<table border=\"1\" class=\"dataframe\">\n",
       "  <thead>\n",
       "    <tr style=\"text-align: right;\">\n",
       "      <th></th>\n",
       "      <th>LotArea</th>\n",
       "      <th>OverallQual</th>\n",
       "      <th>OverallCond</th>\n",
       "      <th>TotalBsmtSF</th>\n",
       "      <th>FullBath</th>\n",
       "      <th>HalfBath</th>\n",
       "      <th>BedroomAbvGr</th>\n",
       "      <th>TotRmsAbvGrd</th>\n",
       "      <th>Fireplaces</th>\n",
       "      <th>GarageArea</th>\n",
       "      <th>AboveMedianPrice</th>\n",
       "    </tr>\n",
       "  </thead>\n",
       "  <tbody>\n",
       "    <tr>\n",
       "      <td>0</td>\n",
       "      <td>8450</td>\n",
       "      <td>7</td>\n",
       "      <td>5</td>\n",
       "      <td>856</td>\n",
       "      <td>2</td>\n",
       "      <td>1</td>\n",
       "      <td>3</td>\n",
       "      <td>8</td>\n",
       "      <td>0</td>\n",
       "      <td>548</td>\n",
       "      <td>1</td>\n",
       "    </tr>\n",
       "    <tr>\n",
       "      <td>1</td>\n",
       "      <td>9600</td>\n",
       "      <td>6</td>\n",
       "      <td>8</td>\n",
       "      <td>1262</td>\n",
       "      <td>2</td>\n",
       "      <td>0</td>\n",
       "      <td>3</td>\n",
       "      <td>6</td>\n",
       "      <td>1</td>\n",
       "      <td>460</td>\n",
       "      <td>1</td>\n",
       "    </tr>\n",
       "    <tr>\n",
       "      <td>2</td>\n",
       "      <td>11250</td>\n",
       "      <td>7</td>\n",
       "      <td>5</td>\n",
       "      <td>920</td>\n",
       "      <td>2</td>\n",
       "      <td>1</td>\n",
       "      <td>3</td>\n",
       "      <td>6</td>\n",
       "      <td>1</td>\n",
       "      <td>608</td>\n",
       "      <td>1</td>\n",
       "    </tr>\n",
       "    <tr>\n",
       "      <td>3</td>\n",
       "      <td>9550</td>\n",
       "      <td>7</td>\n",
       "      <td>5</td>\n",
       "      <td>756</td>\n",
       "      <td>1</td>\n",
       "      <td>0</td>\n",
       "      <td>3</td>\n",
       "      <td>7</td>\n",
       "      <td>1</td>\n",
       "      <td>642</td>\n",
       "      <td>0</td>\n",
       "    </tr>\n",
       "    <tr>\n",
       "      <td>4</td>\n",
       "      <td>14260</td>\n",
       "      <td>8</td>\n",
       "      <td>5</td>\n",
       "      <td>1145</td>\n",
       "      <td>2</td>\n",
       "      <td>1</td>\n",
       "      <td>4</td>\n",
       "      <td>9</td>\n",
       "      <td>1</td>\n",
       "      <td>836</td>\n",
       "      <td>1</td>\n",
       "    </tr>\n",
       "    <tr>\n",
       "      <td>5</td>\n",
       "      <td>14115</td>\n",
       "      <td>5</td>\n",
       "      <td>5</td>\n",
       "      <td>796</td>\n",
       "      <td>1</td>\n",
       "      <td>1</td>\n",
       "      <td>1</td>\n",
       "      <td>5</td>\n",
       "      <td>0</td>\n",
       "      <td>480</td>\n",
       "      <td>0</td>\n",
       "    </tr>\n",
       "    <tr>\n",
       "      <td>6</td>\n",
       "      <td>10084</td>\n",
       "      <td>8</td>\n",
       "      <td>5</td>\n",
       "      <td>1686</td>\n",
       "      <td>2</td>\n",
       "      <td>0</td>\n",
       "      <td>3</td>\n",
       "      <td>7</td>\n",
       "      <td>1</td>\n",
       "      <td>636</td>\n",
       "      <td>1</td>\n",
       "    </tr>\n",
       "  </tbody>\n",
       "</table>\n",
       "</div>"
      ],
      "text/plain": [
       "   LotArea  OverallQual  OverallCond  TotalBsmtSF  FullBath  HalfBath  \\\n",
       "0     8450            7            5          856         2         1   \n",
       "1     9600            6            8         1262         2         0   \n",
       "2    11250            7            5          920         2         1   \n",
       "3     9550            7            5          756         1         0   \n",
       "4    14260            8            5         1145         2         1   \n",
       "5    14115            5            5          796         1         1   \n",
       "6    10084            8            5         1686         2         0   \n",
       "\n",
       "   BedroomAbvGr  TotRmsAbvGrd  Fireplaces  GarageArea  AboveMedianPrice  \n",
       "0             3             8           0         548                 1  \n",
       "1             3             6           1         460                 1  \n",
       "2             3             6           1         608                 1  \n",
       "3             3             7           1         642                 0  \n",
       "4             4             9           1         836                 1  \n",
       "5             1             5           0         480                 0  \n",
       "6             3             7           1         636                 1  "
      ]
     },
     "execution_count": 3,
     "metadata": {},
     "output_type": "execute_result"
    }
   ],
   "source": [
    "#Look at the data first 7 rows of data\n",
    "df.head(7)"
   ]
  },
  {
   "cell_type": "code",
   "execution_count": 4,
   "metadata": {
    "colab": {
     "base_uri": "https://localhost:8080/",
     "height": 136
    },
    "colab_type": "code",
    "id": "zlukoFjStifz",
    "outputId": "17153428-1860-4b4e-d8db-3f46d2b82837"
   },
   "outputs": [
    {
     "data": {
      "text/plain": [
       "array([[ 8450,     7,     5, ...,     0,   548,     1],\n",
       "       [ 9600,     6,     8, ...,     1,   460,     1],\n",
       "       [11250,     7,     5, ...,     1,   608,     1],\n",
       "       ...,\n",
       "       [ 9042,     7,     9, ...,     2,   252,     1],\n",
       "       [ 9717,     5,     6, ...,     0,   240,     0],\n",
       "       [ 9937,     5,     6, ...,     0,   276,     0]], dtype=int64)"
      ]
     },
     "execution_count": 4,
     "metadata": {},
     "output_type": "execute_result"
    }
   ],
   "source": [
    "#Convert the data into an array\n",
    "dataset = df.values\n",
    "dataset"
   ]
  },
  {
   "cell_type": "code",
   "execution_count": 5,
   "metadata": {
    "colab": {},
    "colab_type": "code",
    "id": "gnXZ9IxgTT5Y"
   },
   "outputs": [],
   "source": [
    "#Split the data set\n",
    "X = dataset[:,0:10]\n",
    "Y = dataset[:,10]"
   ]
  },
  {
   "cell_type": "code",
   "execution_count": 6,
   "metadata": {
    "colab": {
     "base_uri": "https://localhost:8080/",
     "height": 238
    },
    "colab_type": "code",
    "id": "j4JDp14yUK_u",
    "outputId": "7c109f61-00b4-4804-a488-097640a1f3e7"
   },
   "outputs": [
    {
     "data": {
      "text/plain": [
       "array([[0.0334198 , 0.66666667, 0.5       , ..., 0.5       , 0.        ,\n",
       "        0.3864598 ],\n",
       "       [0.03879502, 0.55555556, 0.875     , ..., 0.33333333, 0.33333333,\n",
       "        0.32440056],\n",
       "       [0.04650728, 0.66666667, 0.5       , ..., 0.33333333, 0.33333333,\n",
       "        0.42877292],\n",
       "       ...,\n",
       "       [0.03618687, 0.66666667, 1.        , ..., 0.58333333, 0.66666667,\n",
       "        0.17771509],\n",
       "       [0.03934189, 0.44444444, 0.625     , ..., 0.25      , 0.        ,\n",
       "        0.16925247],\n",
       "       [0.04037019, 0.44444444, 0.625     , ..., 0.33333333, 0.        ,\n",
       "        0.19464034]])"
      ]
     },
     "execution_count": 6,
     "metadata": {},
     "output_type": "execute_result"
    }
   ],
   "source": [
    "#the min-max scaler method scales the dataset so that all the input features lie between 0 and 1 inclusive\n",
    "from sklearn import preprocessing\n",
    "min_max_scaler = preprocessing.MinMaxScaler()\n",
    "X_scale = min_max_scaler.fit_transform(X)\n",
    "X_scale"
   ]
  },
  {
   "cell_type": "code",
   "execution_count": 7,
   "metadata": {
    "colab": {
     "base_uri": "https://localhost:8080/",
     "height": 34
    },
    "colab_type": "code",
    "id": "EwftF_DsUXJ9",
    "outputId": "5d516719-6b77-4464-d64c-bb47671ebbbd"
   },
   "outputs": [
    {
     "name": "stdout",
     "output_type": "stream",
     "text": [
      "(1168, 10) (146, 10) (146, 10) (1168,) (146,) (146,)\n"
     ]
    }
   ],
   "source": [
    "#Split the data into 80% training and 20% (testing (10%) and validation (10%))\n",
    "from sklearn.model_selection import train_test_split\n",
    "X_train, X_val_and_test, Y_train, Y_val_and_test = train_test_split(X_scale, Y, test_size=0.2)\n",
    "X_val, X_test, Y_val, Y_test = train_test_split(X_val_and_test, Y_val_and_test, test_size=0.5)\n",
    "\n",
    "#the training set has 1022 data points while the validation and test set has 219 data points each. The X variables have 10 input features, while the Y variables only has one feature to predict.\n",
    "print(X_train.shape, X_val.shape, X_test.shape, Y_train.shape, Y_val.shape, Y_test.shape)"
   ]
  },
  {
   "cell_type": "code",
   "execution_count": 8,
   "metadata": {
    "colab": {},
    "colab_type": "code",
    "id": "cViCvHCZU0wj"
   },
   "outputs": [
    {
     "name": "stdout",
     "output_type": "stream",
     "text": [
      "WARNING:tensorflow:From C:\\Users\\Williams\\Anaconda3\\lib\\site-packages\\keras\\backend\\tensorflow_backend.py:74: The name tf.get_default_graph is deprecated. Please use tf.compat.v1.get_default_graph instead.\n",
      "\n",
      "WARNING:tensorflow:From C:\\Users\\Williams\\Anaconda3\\lib\\site-packages\\keras\\backend\\tensorflow_backend.py:517: The name tf.placeholder is deprecated. Please use tf.compat.v1.placeholder instead.\n",
      "\n",
      "WARNING:tensorflow:From C:\\Users\\Williams\\Anaconda3\\lib\\site-packages\\keras\\backend\\tensorflow_backend.py:4138: The name tf.random_uniform is deprecated. Please use tf.random.uniform instead.\n",
      "\n"
     ]
    }
   ],
   "source": [
    "#Build the model and architecture of the deep neural network\n",
    "from keras.models import Sequential\n",
    "from keras.layers import Dense\n",
    "\n",
    "# The models architechture 4 layers, 3 with 32 neurons and activation function = relu function, \n",
    "# the last layer has 1 neuron with an activation function = sigmoid function which returns a value btwn 0 and 1\n",
    "# The input shape/ input_dim = 10 the number of features in the data set\n",
    "model = Sequential([\n",
    "    Dense(32, activation='relu', input_shape=(10,)),\n",
    "    Dense(32, activation='relu'),\n",
    "    Dense(32, activation='relu'),\n",
    "    Dense(1, activation='sigmoid')\n",
    "])"
   ]
  },
  {
   "cell_type": "code",
   "execution_count": 9,
   "metadata": {
    "colab": {},
    "colab_type": "code",
    "id": "fu80jev3VPUe"
   },
   "outputs": [
    {
     "name": "stdout",
     "output_type": "stream",
     "text": [
      "WARNING:tensorflow:From C:\\Users\\Williams\\Anaconda3\\lib\\site-packages\\keras\\optimizers.py:790: The name tf.train.Optimizer is deprecated. Please use tf.compat.v1.train.Optimizer instead.\n",
      "\n",
      "WARNING:tensorflow:From C:\\Users\\Williams\\Anaconda3\\lib\\site-packages\\keras\\backend\\tensorflow_backend.py:3376: The name tf.log is deprecated. Please use tf.math.log instead.\n",
      "\n",
      "WARNING:tensorflow:From C:\\Users\\Williams\\Anaconda3\\lib\\site-packages\\tensorflow_core\\python\\ops\\nn_impl.py:183: where (from tensorflow.python.ops.array_ops) is deprecated and will be removed in a future version.\n",
      "Instructions for updating:\n",
      "Use tf.where in 2.0, which has the same broadcast rule as np.where\n"
     ]
    }
   ],
   "source": [
    "# loss measuers how well the model did on training , and then tries to improve on it using the optimizer\n",
    "model.compile(optimizer='sgd',\n",
    "              loss='binary_crossentropy',\n",
    "              metrics=['accuracy'])"
   ]
  },
  {
   "cell_type": "code",
   "execution_count": 10,
   "metadata": {
    "colab": {
     "base_uri": "https://localhost:8080/",
     "height": 3434
    },
    "colab_type": "code",
    "id": "eYg91iQPVWK9",
    "outputId": "3c104cf1-7383-47de-8140-207351e2142c"
   },
   "outputs": [
    {
     "name": "stdout",
     "output_type": "stream",
     "text": [
      "WARNING:tensorflow:From C:\\Users\\Williams\\Anaconda3\\lib\\site-packages\\keras\\backend\\tensorflow_backend.py:986: The name tf.assign_add is deprecated. Please use tf.compat.v1.assign_add instead.\n",
      "\n",
      "WARNING:tensorflow:From C:\\Users\\Williams\\Anaconda3\\lib\\site-packages\\keras\\backend\\tensorflow_backend.py:973: The name tf.assign is deprecated. Please use tf.compat.v1.assign instead.\n",
      "\n",
      "WARNING:tensorflow:From C:\\Users\\Williams\\Anaconda3\\lib\\site-packages\\keras\\backend\\tensorflow_backend.py:2741: The name tf.Session is deprecated. Please use tf.compat.v1.Session instead.\n",
      "\n",
      "Train on 1168 samples, validate on 146 samples\n",
      "Epoch 1/100\n",
      "WARNING:tensorflow:From C:\\Users\\Williams\\Anaconda3\\lib\\site-packages\\keras\\backend\\tensorflow_backend.py:174: The name tf.get_default_session is deprecated. Please use tf.compat.v1.get_default_session instead.\n",
      "\n",
      "WARNING:tensorflow:From C:\\Users\\Williams\\Anaconda3\\lib\\site-packages\\keras\\backend\\tensorflow_backend.py:181: The name tf.ConfigProto is deprecated. Please use tf.compat.v1.ConfigProto instead.\n",
      "\n",
      "WARNING:tensorflow:From C:\\Users\\Williams\\Anaconda3\\lib\\site-packages\\keras\\backend\\tensorflow_backend.py:190: The name tf.global_variables is deprecated. Please use tf.compat.v1.global_variables instead.\n",
      "\n",
      "WARNING:tensorflow:From C:\\Users\\Williams\\Anaconda3\\lib\\site-packages\\keras\\backend\\tensorflow_backend.py:199: The name tf.is_variable_initialized is deprecated. Please use tf.compat.v1.is_variable_initialized instead.\n",
      "\n",
      "WARNING:tensorflow:From C:\\Users\\Williams\\Anaconda3\\lib\\site-packages\\keras\\backend\\tensorflow_backend.py:206: The name tf.variables_initializer is deprecated. Please use tf.compat.v1.variables_initializer instead.\n",
      "\n",
      "1168/1168 [==============================] - 4s 4ms/step - loss: 0.6798 - acc: 0.5368 - val_loss: 0.6726 - val_acc: 0.6712\n",
      "Epoch 2/100\n",
      "1168/1168 [==============================] - 0s 325us/step - loss: 0.6719 - acc: 0.6481 - val_loss: 0.6649 - val_acc: 0.7123\n",
      "Epoch 3/100\n",
      "1168/1168 [==============================] - 0s 96us/step - loss: 0.6645 - acc: 0.7209 - val_loss: 0.6573 - val_acc: 0.7397\n",
      "Epoch 4/100\n",
      "1168/1168 [==============================] - 0s 97us/step - loss: 0.6569 - acc: 0.7132 - val_loss: 0.6494 - val_acc: 0.7534\n",
      "Epoch 5/100\n",
      "1168/1168 [==============================] - 0s 95us/step - loss: 0.6482 - acc: 0.7483 - val_loss: 0.6403 - val_acc: 0.7740\n",
      "Epoch 6/100\n",
      "1168/1168 [==============================] - 0s 62us/step - loss: 0.6388 - acc: 0.7577 - val_loss: 0.6308 - val_acc: 0.8014\n",
      "Epoch 7/100\n",
      "1168/1168 [==============================] - 0s 76us/step - loss: 0.6284 - acc: 0.7997 - val_loss: 0.6203 - val_acc: 0.8356\n",
      "Epoch 8/100\n",
      "1168/1168 [==============================] - 0s 120us/step - loss: 0.6169 - acc: 0.8176 - val_loss: 0.6086 - val_acc: 0.8288\n",
      "Epoch 9/100\n",
      "1168/1168 [==============================] - 0s 59us/step - loss: 0.6048 - acc: 0.8236 - val_loss: 0.5959 - val_acc: 0.8425\n",
      "Epoch 10/100\n",
      "1168/1168 [==============================] - 0s 56us/step - loss: 0.5917 - acc: 0.8399 - val_loss: 0.5822 - val_acc: 0.8493\n",
      "Epoch 11/100\n",
      "1168/1168 [==============================] - 0s 72us/step - loss: 0.5777 - acc: 0.8416 - val_loss: 0.5679 - val_acc: 0.8493\n",
      "Epoch 12/100\n",
      "1168/1168 [==============================] - 0s 78us/step - loss: 0.5636 - acc: 0.8425 - val_loss: 0.5543 - val_acc: 0.8699\n",
      "Epoch 13/100\n",
      "1168/1168 [==============================] - 0s 151us/step - loss: 0.5485 - acc: 0.8476 - val_loss: 0.5398 - val_acc: 0.8699\n",
      "Epoch 14/100\n",
      "1168/1168 [==============================] - 0s 56us/step - loss: 0.5330 - acc: 0.8545 - val_loss: 0.5232 - val_acc: 0.8699\n",
      "Epoch 15/100\n",
      "1168/1168 [==============================] - 0s 88us/step - loss: 0.5175 - acc: 0.8553 - val_loss: 0.5091 - val_acc: 0.8836\n",
      "Epoch 16/100\n",
      "1168/1168 [==============================] - 0s 52us/step - loss: 0.5015 - acc: 0.8570 - val_loss: 0.4936 - val_acc: 0.8836\n",
      "Epoch 17/100\n",
      "1168/1168 [==============================] - 0s 55us/step - loss: 0.4853 - acc: 0.8604 - val_loss: 0.4754 - val_acc: 0.8767\n",
      "Epoch 18/100\n",
      "1168/1168 [==============================] - 0s 52us/step - loss: 0.4699 - acc: 0.8587 - val_loss: 0.4624 - val_acc: 0.8973\n",
      "Epoch 19/100\n",
      "1168/1168 [==============================] - 0s 47us/step - loss: 0.4539 - acc: 0.8639 - val_loss: 0.4461 - val_acc: 0.9041\n",
      "Epoch 20/100\n",
      "1168/1168 [==============================] - 0s 69us/step - loss: 0.4382 - acc: 0.8682 - val_loss: 0.4318 - val_acc: 0.8973\n",
      "Epoch 21/100\n",
      "1168/1168 [==============================] - 0s 119us/step - loss: 0.4238 - acc: 0.8630 - val_loss: 0.4180 - val_acc: 0.8973\n",
      "Epoch 22/100\n",
      "1168/1168 [==============================] - 0s 61us/step - loss: 0.4105 - acc: 0.8690 - val_loss: 0.4062 - val_acc: 0.8973\n",
      "Epoch 23/100\n",
      "1168/1168 [==============================] - 0s 54us/step - loss: 0.3989 - acc: 0.8707 - val_loss: 0.3975 - val_acc: 0.8767\n",
      "Epoch 24/100\n",
      "1168/1168 [==============================] - 0s 51us/step - loss: 0.3873 - acc: 0.8690 - val_loss: 0.3879 - val_acc: 0.8767\n",
      "Epoch 25/100\n",
      "1168/1168 [==============================] - 0s 56us/step - loss: 0.3769 - acc: 0.8707 - val_loss: 0.3813 - val_acc: 0.8767\n",
      "Epoch 26/100\n",
      "1168/1168 [==============================] - 0s 56us/step - loss: 0.3674 - acc: 0.8682 - val_loss: 0.3716 - val_acc: 0.8767\n",
      "Epoch 27/100\n",
      "1168/1168 [==============================] - 0s 52us/step - loss: 0.3592 - acc: 0.8664 - val_loss: 0.3589 - val_acc: 0.8836\n",
      "Epoch 28/100\n",
      "1168/1168 [==============================] - 0s 153us/step - loss: 0.3518 - acc: 0.8664 - val_loss: 0.3614 - val_acc: 0.8699\n",
      "Epoch 29/100\n",
      "1168/1168 [==============================] - 0s 51us/step - loss: 0.3454 - acc: 0.8682 - val_loss: 0.3538 - val_acc: 0.8767\n",
      "Epoch 30/100\n",
      "1168/1168 [==============================] - 0s 79us/step - loss: 0.3394 - acc: 0.8664 - val_loss: 0.3432 - val_acc: 0.8904\n",
      "Epoch 31/100\n",
      "1168/1168 [==============================] - 0s 53us/step - loss: 0.3333 - acc: 0.8656 - val_loss: 0.3457 - val_acc: 0.8836\n",
      "Epoch 32/100\n",
      "1168/1168 [==============================] - 0s 53us/step - loss: 0.3283 - acc: 0.8716 - val_loss: 0.3358 - val_acc: 0.8904\n",
      "Epoch 33/100\n",
      "1168/1168 [==============================] - 0s 56us/step - loss: 0.3246 - acc: 0.8724 - val_loss: 0.3310 - val_acc: 0.8836\n",
      "Epoch 34/100\n",
      "1168/1168 [==============================] - 0s 59us/step - loss: 0.3207 - acc: 0.8673 - val_loss: 0.3391 - val_acc: 0.8767\n",
      "Epoch 35/100\n",
      "1168/1168 [==============================] - 0s 66us/step - loss: 0.3173 - acc: 0.8707 - val_loss: 0.3322 - val_acc: 0.8904\n",
      "Epoch 36/100\n",
      "1168/1168 [==============================] - 0s 53us/step - loss: 0.3136 - acc: 0.8699 - val_loss: 0.3332 - val_acc: 0.8767\n",
      "Epoch 37/100\n",
      "1168/1168 [==============================] - 0s 62us/step - loss: 0.3112 - acc: 0.8707 - val_loss: 0.3209 - val_acc: 0.8836\n",
      "Epoch 38/100\n",
      "1168/1168 [==============================] - 0s 74us/step - loss: 0.3087 - acc: 0.8767 - val_loss: 0.3234 - val_acc: 0.8904\n",
      "Epoch 39/100\n",
      "1168/1168 [==============================] - 0s 73us/step - loss: 0.3052 - acc: 0.8767 - val_loss: 0.3173 - val_acc: 0.8836\n",
      "Epoch 40/100\n",
      "1168/1168 [==============================] - 0s 140us/step - loss: 0.3033 - acc: 0.8776 - val_loss: 0.3188 - val_acc: 0.8904\n",
      "Epoch 41/100\n",
      "1168/1168 [==============================] - 0s 73us/step - loss: 0.3003 - acc: 0.8741 - val_loss: 0.3256 - val_acc: 0.8836\n",
      "Epoch 42/100\n",
      "1168/1168 [==============================] - 0s 60us/step - loss: 0.2992 - acc: 0.8750 - val_loss: 0.3224 - val_acc: 0.8973\n",
      "Epoch 43/100\n",
      "1168/1168 [==============================] - 0s 50us/step - loss: 0.2978 - acc: 0.8801 - val_loss: 0.3157 - val_acc: 0.8904\n",
      "Epoch 44/100\n",
      "1168/1168 [==============================] - 0s 54us/step - loss: 0.2940 - acc: 0.8801 - val_loss: 0.3183 - val_acc: 0.8973\n",
      "Epoch 45/100\n",
      "1168/1168 [==============================] - 0s 53us/step - loss: 0.2928 - acc: 0.8844 - val_loss: 0.3173 - val_acc: 0.8904\n",
      "Epoch 46/100\n",
      "1168/1168 [==============================] - 0s 76us/step - loss: 0.2920 - acc: 0.8844 - val_loss: 0.3091 - val_acc: 0.8836\n",
      "Epoch 47/100\n",
      "1168/1168 [==============================] - 0s 58us/step - loss: 0.2904 - acc: 0.8836 - val_loss: 0.3050 - val_acc: 0.8836\n",
      "Epoch 48/100\n"
     ]
    },
    {
     "name": "stdout",
     "output_type": "stream",
     "text": [
      "1168/1168 [==============================] - 0s 52us/step - loss: 0.2880 - acc: 0.8827 - val_loss: 0.3263 - val_acc: 0.8767\n",
      "Epoch 49/100\n",
      "1168/1168 [==============================] - 0s 46us/step - loss: 0.2868 - acc: 0.8818 - val_loss: 0.3070 - val_acc: 0.8904\n",
      "Epoch 50/100\n",
      "1168/1168 [==============================] - 0s 47us/step - loss: 0.2854 - acc: 0.8853 - val_loss: 0.3042 - val_acc: 0.8836\n",
      "Epoch 51/100\n",
      "1168/1168 [==============================] - 0s 51us/step - loss: 0.2836 - acc: 0.8827 - val_loss: 0.3055 - val_acc: 0.8904\n",
      "Epoch 52/100\n",
      "1168/1168 [==============================] - 0s 45us/step - loss: 0.2817 - acc: 0.8818 - val_loss: 0.3046 - val_acc: 0.8904\n",
      "Epoch 53/100\n",
      "1168/1168 [==============================] - 0s 52us/step - loss: 0.2820 - acc: 0.8810 - val_loss: 0.3059 - val_acc: 0.8836\n",
      "Epoch 54/100\n",
      "1168/1168 [==============================] - 0s 88us/step - loss: 0.2796 - acc: 0.8870 - val_loss: 0.3194 - val_acc: 0.8836\n",
      "Epoch 55/100\n",
      "1168/1168 [==============================] - 0s 51us/step - loss: 0.2784 - acc: 0.8818 - val_loss: 0.3022 - val_acc: 0.8904\n",
      "Epoch 56/100\n",
      "1168/1168 [==============================] - 0s 50us/step - loss: 0.2788 - acc: 0.8878 - val_loss: 0.3080 - val_acc: 0.8904\n",
      "Epoch 57/100\n",
      "1168/1168 [==============================] - 0s 50us/step - loss: 0.2751 - acc: 0.8844 - val_loss: 0.3016 - val_acc: 0.8904\n",
      "Epoch 58/100\n",
      "1168/1168 [==============================] - 0s 46us/step - loss: 0.2748 - acc: 0.8853 - val_loss: 0.3077 - val_acc: 0.8904\n",
      "Epoch 59/100\n",
      "1168/1168 [==============================] - 0s 50us/step - loss: 0.2747 - acc: 0.8844 - val_loss: 0.3068 - val_acc: 0.8904\n",
      "Epoch 60/100\n",
      "1168/1168 [==============================] - 0s 44us/step - loss: 0.2728 - acc: 0.8844 - val_loss: 0.3085 - val_acc: 0.8904\n",
      "Epoch 61/100\n",
      "1168/1168 [==============================] - 0s 84us/step - loss: 0.2757 - acc: 0.8913 - val_loss: 0.3020 - val_acc: 0.8836\n",
      "Epoch 62/100\n",
      "1168/1168 [==============================] - 0s 68us/step - loss: 0.2711 - acc: 0.8887 - val_loss: 0.3129 - val_acc: 0.8836\n",
      "Epoch 63/100\n",
      "1168/1168 [==============================] - 0s 45us/step - loss: 0.2709 - acc: 0.8913 - val_loss: 0.3107 - val_acc: 0.8836\n",
      "Epoch 64/100\n",
      "1168/1168 [==============================] - 0s 52us/step - loss: 0.2697 - acc: 0.8836 - val_loss: 0.3292 - val_acc: 0.8767\n",
      "Epoch 65/100\n",
      "1168/1168 [==============================] - 0s 71us/step - loss: 0.2695 - acc: 0.8861 - val_loss: 0.3192 - val_acc: 0.8836\n",
      "Epoch 66/100\n",
      "1168/1168 [==============================] - 0s 52us/step - loss: 0.2689 - acc: 0.8853 - val_loss: 0.2995 - val_acc: 0.8836\n",
      "Epoch 67/100\n",
      "1168/1168 [==============================] - 0s 45us/step - loss: 0.2666 - acc: 0.8870 - val_loss: 0.2955 - val_acc: 0.8836\n",
      "Epoch 68/100\n",
      "1168/1168 [==============================] - 0s 51us/step - loss: 0.2676 - acc: 0.8836 - val_loss: 0.2992 - val_acc: 0.8904\n",
      "Epoch 69/100\n",
      "1168/1168 [==============================] - 0s 49us/step - loss: 0.2666 - acc: 0.8853 - val_loss: 0.3027 - val_acc: 0.8904\n",
      "Epoch 70/100\n",
      "1168/1168 [==============================] - 0s 56us/step - loss: 0.2655 - acc: 0.8870 - val_loss: 0.3054 - val_acc: 0.8836\n",
      "Epoch 71/100\n",
      "1168/1168 [==============================] - 0s 82us/step - loss: 0.2626 - acc: 0.8913 - val_loss: 0.3010 - val_acc: 0.8904\n",
      "Epoch 72/100\n",
      "1168/1168 [==============================] - 0s 56us/step - loss: 0.2621 - acc: 0.8861 - val_loss: 0.3479 - val_acc: 0.8562\n",
      "Epoch 73/100\n",
      "1168/1168 [==============================] - 0s 46us/step - loss: 0.2631 - acc: 0.8861 - val_loss: 0.2964 - val_acc: 0.8836\n",
      "Epoch 74/100\n",
      "1168/1168 [==============================] - 0s 51us/step - loss: 0.2634 - acc: 0.8921 - val_loss: 0.3013 - val_acc: 0.8904\n",
      "Epoch 75/100\n",
      "1168/1168 [==============================] - 0s 58us/step - loss: 0.2608 - acc: 0.8955 - val_loss: 0.2983 - val_acc: 0.8836\n",
      "Epoch 76/100\n",
      "1168/1168 [==============================] - 0s 54us/step - loss: 0.2600 - acc: 0.8870 - val_loss: 0.3113 - val_acc: 0.8836\n",
      "Epoch 77/100\n",
      "1168/1168 [==============================] - 0s 47us/step - loss: 0.2609 - acc: 0.8904 - val_loss: 0.2991 - val_acc: 0.8904\n",
      "Epoch 78/100\n",
      "1168/1168 [==============================] - 0s 63us/step - loss: 0.2579 - acc: 0.8870 - val_loss: 0.3161 - val_acc: 0.8836\n",
      "Epoch 79/100\n",
      "1168/1168 [==============================] - 0s 46us/step - loss: 0.2596 - acc: 0.8887 - val_loss: 0.3036 - val_acc: 0.8836\n",
      "Epoch 80/100\n",
      "1168/1168 [==============================] - 0s 54us/step - loss: 0.2594 - acc: 0.8913 - val_loss: 0.3055 - val_acc: 0.8836\n",
      "Epoch 81/100\n",
      "1168/1168 [==============================] - 0s 50us/step - loss: 0.2576 - acc: 0.8904 - val_loss: 0.2992 - val_acc: 0.8836\n",
      "Epoch 82/100\n",
      "1168/1168 [==============================] - 0s 45us/step - loss: 0.2567 - acc: 0.8861 - val_loss: 0.2936 - val_acc: 0.8973\n",
      "Epoch 83/100\n",
      "1168/1168 [==============================] - 0s 46us/step - loss: 0.2580 - acc: 0.8930 - val_loss: 0.3183 - val_acc: 0.8836\n",
      "Epoch 84/100\n",
      "1168/1168 [==============================] - 0s 51us/step - loss: 0.2564 - acc: 0.8938 - val_loss: 0.2980 - val_acc: 0.8904\n",
      "Epoch 85/100\n",
      "1168/1168 [==============================] - 0s 44us/step - loss: 0.2574 - acc: 0.8887 - val_loss: 0.3248 - val_acc: 0.8836\n",
      "Epoch 86/100\n",
      "1168/1168 [==============================] - 0s 52us/step - loss: 0.2556 - acc: 0.8921 - val_loss: 0.2938 - val_acc: 0.8904\n",
      "Epoch 87/100\n",
      "1168/1168 [==============================] - 0s 49us/step - loss: 0.2555 - acc: 0.8861 - val_loss: 0.3068 - val_acc: 0.8836\n",
      "Epoch 88/100\n",
      "1168/1168 [==============================] - 0s 47us/step - loss: 0.2538 - acc: 0.8930 - val_loss: 0.3201 - val_acc: 0.8836\n",
      "Epoch 89/100\n",
      "1168/1168 [==============================] - 0s 49us/step - loss: 0.2539 - acc: 0.8904 - val_loss: 0.3053 - val_acc: 0.8836\n",
      "Epoch 90/100\n",
      "1168/1168 [==============================] - 0s 45us/step - loss: 0.2542 - acc: 0.8904 - val_loss: 0.2937 - val_acc: 0.8836\n",
      "Epoch 91/100\n",
      "1168/1168 [==============================] - 0s 44us/step - loss: 0.2542 - acc: 0.8896 - val_loss: 0.2980 - val_acc: 0.8836\n",
      "Epoch 92/100\n",
      "1168/1168 [==============================] - 0s 44us/step - loss: 0.2539 - acc: 0.8964 - val_loss: 0.2943 - val_acc: 0.8836\n",
      "Epoch 93/100\n",
      "1168/1168 [==============================] - 0s 45us/step - loss: 0.2519 - acc: 0.8904 - val_loss: 0.2942 - val_acc: 0.8904\n",
      "Epoch 94/100\n",
      "1168/1168 [==============================] - 0s 49us/step - loss: 0.2536 - acc: 0.8896 - val_loss: 0.3066 - val_acc: 0.8836\n",
      "Epoch 95/100\n",
      "1168/1168 [==============================] - 0s 59us/step - loss: 0.2547 - acc: 0.8913 - val_loss: 0.3234 - val_acc: 0.8767\n",
      "Epoch 96/100\n",
      "1168/1168 [==============================] - 0s 47us/step - loss: 0.2524 - acc: 0.8870 - val_loss: 0.2942 - val_acc: 0.8836\n",
      "Epoch 97/100\n",
      "1168/1168 [==============================] - 0s 53us/step - loss: 0.2524 - acc: 0.8921 - val_loss: 0.3001 - val_acc: 0.8904\n",
      "Epoch 98/100\n",
      "1168/1168 [==============================] - 0s 51us/step - loss: 0.2521 - acc: 0.8921 - val_loss: 0.2990 - val_acc: 0.8904\n",
      "Epoch 99/100\n",
      "1168/1168 [==============================] - 0s 45us/step - loss: 0.2542 - acc: 0.8904 - val_loss: 0.2962 - val_acc: 0.8904\n",
      "Epoch 100/100\n",
      "1168/1168 [==============================] - 0s 48us/step - loss: 0.2506 - acc: 0.8904 - val_loss: 0.3001 - val_acc: 0.8904\n"
     ]
    }
   ],
   "source": [
    "#Train the model\n",
    "hist = model.fit(X_train, Y_train,\n",
    "          batch_size=32, epochs=100,\n",
    "          validation_data=(X_val, Y_val))"
   ]
  },
  {
   "cell_type": "code",
   "execution_count": 11,
   "metadata": {
    "colab": {
     "base_uri": "https://localhost:8080/",
     "height": 51
    },
    "colab_type": "code",
    "id": "C9x2XY0fVhFV",
    "outputId": "a5dc5c06-a071-46be-c8d6-d8a9b94c3bfe"
   },
   "outputs": [
    {
     "name": "stdout",
     "output_type": "stream",
     "text": [
      "146/146 [==============================] - 0s 75us/step\n"
     ]
    },
    {
     "data": {
      "text/plain": [
       "0.9041095898575979"
      ]
     },
     "execution_count": 11,
     "metadata": {},
     "output_type": "execute_result"
    }
   ],
   "source": [
    "#The reason why we have the index 1 after the model.evaluate function is because\n",
    "#the function returns the loss as the first element and the accuracy as the \n",
    "#second element. To only output the accuracy, simply access the second element \n",
    "#(which is indexed by 1, since the first element starts its indexing from 0).\n",
    "model.evaluate(X_test, Y_test)[1]"
   ]
  },
  {
   "cell_type": "code",
   "execution_count": 12,
   "metadata": {
    "colab": {
     "base_uri": "https://localhost:8080/",
     "height": 156
    },
    "colab_type": "code",
    "id": "xtZ7A3DkVvCm",
    "outputId": "43832721-7553-4cc1-b6a5-617c857c317b"
   },
   "outputs": [
    {
     "name": "stdout",
     "output_type": "stream",
     "text": [
      "[0, 1, 1, 1, 1, 1, 1, 1, 0, 0, 1, 0, 1, 0, 0, 1, 1, 0, 1, 0, 1, 0, 0, 0, 1, 0, 1, 1, 0, 0, 1, 1, 0, 0, 0, 1, 1, 0, 0, 0, 0, 1, 1, 0, 0, 1, 0, 1, 0, 1, 0, 0, 0, 0, 1, 1, 0, 1, 0, 0, 0, 0, 1, 0, 0, 1, 0, 1, 1, 0, 1, 1, 0, 0, 1, 0, 0, 1, 0, 1, 0, 0, 0, 0, 0, 0, 0, 1, 1, 1, 0, 0, 1, 0, 0, 0, 0, 0, 1, 0, 1, 1, 1, 0, 0, 0, 0, 0, 1, 0, 1, 0, 0, 0, 0, 0, 1, 0, 1, 0, 0, 0, 0, 1, 0, 0, 1, 0, 0, 0, 1, 0, 1, 0, 1, 0, 1, 0, 0, 0, 1, 0, 0, 0, 1, 0]\n",
      "[0 1 1 1 1 1 1 1 0 0 1 1 0 0 1 1 1 0 1 0 1 0 0 0 1 0 1 1 1 0 1 1 0 1 1 1 1\n",
      " 0 1 0 0 1 1 0 0 1 0 1 0 1 0 0 1 0 1 1 0 1 0 1 0 1 1 1 0 1 1 1 1 0 1 1 0 0\n",
      " 0 0 0 1 0 1 0 0 1 1 0 0 0 1 1 1 0 0 1 0 0 0 0 1 1 0 1 1 1 0 0 0 0 0 1 0 1\n",
      " 0 1 1 0 0 1 1 1 0 0 0 0 1 0 0 1 0 1 0 1 0 1 0 1 0 1 1 0 1 1 0 0 1 1 0]\n"
     ]
    }
   ],
   "source": [
    "#Make a prediction\n",
    "prediction = model.predict(X_test)\n",
    "prediction  = [1 if y>=0.85 else 0 for y in prediction] #Threshold\n",
    "print(prediction)\n",
    "print(Y_test)"
   ]
  },
  {
   "cell_type": "code",
   "execution_count": 13,
   "metadata": {
    "colab": {
     "base_uri": "https://localhost:8080/",
     "height": 295
    },
    "colab_type": "code",
    "id": "JCCtskOlW3pt",
    "outputId": "d03d1fe7-6d62-4e3f-f671-ead35d056c8c"
   },
   "outputs": [
    {
     "data": {
      "image/png": "[encoded data removed]",
      "text/plain": [
       "<Figure size 432x288 with 1 Axes>"
      ]
     },
     "metadata": {
      "needs_background": "light"
     },
     "output_type": "display_data"
    }
   ],
   "source": [
    "#visualize the training loss and the validation loss to see if the model is overfitting\n",
    "plt.plot(hist.history['loss'])\n",
    "plt.plot(hist.history['val_loss'])\n",
    "plt.title('Model loss')\n",
    "plt.ylabel('Loss')\n",
    "plt.xlabel('Epoch')\n",
    "plt.legend(['Train', 'Val'], loc='upper right')\n",
    "plt.show()\n"
   ]
  },
  {
   "cell_type": "code",
   "execution_count": 14,
   "metadata": {
    "colab": {
     "base_uri": "https://localhost:8080/",
     "height": 295
    },
    "colab_type": "code",
    "id": "IYxMjqT3W5-D",
    "outputId": "f1344fbe-40df-4b93-b162-b5c55e161898"
   },
   "outputs": [
    {
     "data": {
      "image/png": "[encoded data removed]",
      "text/plain": [
       "<Figure size 432x288 with 1 Axes>"
      ]
     },
     "metadata": {
      "needs_background": "light"
     },
     "output_type": "display_data"
    }
   ],
   "source": [
    "#visualize the training accuracy and the validation accuracy to see if the model is overfitting\n",
    "plt.plot(hist.history['acc'])\n",
    "plt.plot(hist.history['val_acc'])\n",
    "plt.title('Model accuracy')\n",
    "plt.ylabel('Accuracy')\n",
    "plt.xlabel('Epoch')\n",
    "plt.legend(['Train', 'Val'], loc='lower right')\n",
    "plt.show()"
   ]
  },
  {
   "cell_type": "code",
   "execution_count": null,
   "metadata": {},
   "outputs": [],
   "source": []
  }
 ],
 "metadata": {
  "colab": {
   "include_colab_link": true,
   "name": "Neural_Networks.ipynb",
   "provenance": [],
   "version": "0.3.2"
  },
  "kernelspec": {
   "display_name": "Python 3",
   "language": "python",
   "name": "python3"
  },
  "language_info": {
   "codemirror_mode": {
    "name": "ipython",
    "version": 3
   },
   "file_extension": ".py",
   "mimetype": "text/x-python",
   "name": "python",
   "nbconvert_exporter": "python",
   "pygments_lexer": "ipython3",
   "version": "3.7.4"
  }
 },
 "nbformat": 4,
 "nbformat_minor": 1
}
